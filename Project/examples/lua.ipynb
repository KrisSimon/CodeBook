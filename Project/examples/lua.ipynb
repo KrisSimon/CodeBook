{
 "cells": [
  {
   "cell_type": "markdown",
   "metadata": {},
   "source": [
    "# Lua Example"
   ]
  },
  {
   "cell_type": "code",
   "execution_count": 6,
   "id": "01J1Q58TJXV7N4TWTP9Z9W5MKY",
   "metadata": {},
   "outputs": [
    {
     "name": "stdout",
     "output_type": "stream",
     "text": [
      "Hello\tBob\n"
     ]
    }
   ],
   "source": [
    "function sayHello(name)\n",
    "    print(\"Hello\", name)\n",
    "end\n",
    "\n",
    "sayHello(\"Bob\")"
   ]
  }
 ],
 "metadata": {
  "kernelspec": {
   "display_name": "Lua",
   "language": "lua",
   "name": "lua"
  },
  "language_info": {
   "file_extension": ".lua",
   "mimetype": "text/x-lua",
   "name": "lua",
   "version": "5.1"
  }
 },
 "nbformat": 4,
 "nbformat_minor": 2
}
