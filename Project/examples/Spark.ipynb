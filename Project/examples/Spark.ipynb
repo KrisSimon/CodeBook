{
 "cells": [
  {
   "cell_type": "code",
   "execution_count": 3,
   "metadata": {},
   "outputs": [],
   "source": [
    "import findspark\n",
    "findspark.init('/opt/spark/spark-3.0.2-bin-hadoop3.2')\n",
    "\n",
    "from pyspark.sql import SparkSession\n",
    "spark = SparkSession \\\n",
    "    .builder \\\n",
    "    .appName(\"demonstration notebook\") \\\n",
    "    .getOrCreate()\n",
    "\n",
    "from pyspark.sql.functions import *\n",
    "from pyspark.sql.types import *\n",
    "from IPython.display import display"
   ]
  },
  {
   "cell_type": "code",
   "execution_count": 6,
   "metadata": {},
   "outputs": [
    {
     "name": "stdout",
     "output_type": "stream",
     "text": [
      "+------------------------------------------------------------------------------------------------------------------------------------------------------------------------------+\n",
      "|index;name;artist;release_date;length;popularity;danceability;acousticness;danceability;energy;instrumentalness;key;liveness;loudness;speechiness;tempo;time_signature;valence|\n",
      "+------------------------------------------------------------------------------------------------------------------------------------------------------------------------------+\n",
      "|                                                                                                                                                          0;Smells Like Tee...|\n",
      "|                                                                                                                                                          1;Stairway to Hea...|\n",
      "|                                                                                                                                                          2;Bohemian Rhapso...|\n",
      "|                                                                                                                                                          3;Imagine - Remas...|\n",
      "|                                                                                                                                                          4;(I Can't Get No...|\n",
      "|                                                                                                                                                          5;Hotel Californi...|\n",
      "|                                                                                                                                                          6;Enter Sandman;M...|\n",
      "|                                                                                                                                                          7;Whole Lotta Lov...|\n",
      "|                                                                                                                                                          8;Comfortably Num...|\n",
      "|                                                                                                                                                          9;One;U2;1991;4.6...|\n",
      "|                                                                                                                                                          10;Born to Run;Br...|\n",
      "|                                                                                                                                                          11;Smoke on the W...|\n",
      "|                                                                                                                                                          12;Hey Jude - Rem...|\n",
      "|                                                                                                                                                          13;Paranoid - 201...|\n",
      "|                                                                                                                                                          14;Seven Nation A...|\n",
      "|                                                                                                                                                          15;Free Bird;Lyny...|\n",
      "|                                                                                                                                                          16;Back In Black;...|\n",
      "|                                                                                                                                                          17;Sympathy For T...|\n",
      "|                                                                                                                                                          18;Wish You Were ...|\n",
      "|                                                                                                                                                          19;With Or Withou...|\n",
      "+------------------------------------------------------------------------------------------------------------------------------------------------------------------------------+\n",
      "only showing top 20 rows\n",
      "\n"
     ]
    }
   ],
   "source": [
    "df = spark.read \\\n",
    "        .option(\"delimiter\", \",\") \\\n",
    "        .option(\"inferSchema\", \"true\") \\\n",
    "        .option(\"header\", \"true\") \\\n",
    "        .csv(\"/project/data/*.csv\")\n",
    "\n",
    "df.show()"
   ]
  }
 ],
 "metadata": {
  "kernelspec": {
   "display_name": "Python 3",
   "language": "python",
   "name": "python3"
  },
  "language_info": {
   "codemirror_mode": {
    "name": "ipython",
    "version": 3
   },
   "file_extension": ".py",
   "mimetype": "text/x-python",
   "name": "python",
   "nbconvert_exporter": "python",
   "pygments_lexer": "ipython3",
   "version": "3.10.12"
  }
 },
 "nbformat": 4,
 "nbformat_minor": 2
}
